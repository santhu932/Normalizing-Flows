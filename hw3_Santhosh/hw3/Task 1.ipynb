{
 "cells": [
  {
   "cell_type": "code",
   "execution_count": 204,
   "id": "643c26c7",
   "metadata": {},
   "outputs": [],
   "source": [
    "import numpy as np\n",
    "import torch\n",
    "import torch.nn as nn\n",
    "import matplotlib.pyplot as plt\n",
    "import math"
   ]
  },
  {
   "cell_type": "code",
   "execution_count": 205,
   "id": "a9d0fe09",
   "metadata": {},
   "outputs": [],
   "source": [
    "def coupling_layer(w, b, m, z):\n",
    "    X = torch.zeros((z.shape[0], z.shape[1]))\n",
    "    X[:, m] = z[:, m]\n",
    "    z_m = torch.reshape(z[:, m], (z[:, m].shape[0], 1))\n",
    "    w = torch.reshape(w, (1, w.shape[0]))\n",
    "    theta = torch.exp(torch.tanh(torch.mm(z_m, w) + b))\n",
    "    X[:, 1-m] = z[:, 1-m] * theta[:, 0] + theta[:, 1]\n",
    "    return X\n",
    "\n",
    "def forward_flow(W, B, M, z0):\n",
    "    Z = z0\n",
    "    for i in range(len(M)):\n",
    "        Z = coupling_layer(W[i], B[i], M[i], Z)\n",
    "    return Z\n",
    "\n",
    "def inverse_coupling_layer(w, b, m, x):\n",
    "    Z = torch.zeros((x.shape[0], x.shape[1]))\n",
    "    Z[:, m] = x[:, m]\n",
    "    x_m = torch.reshape(x[:, m], (x[:, m].shape[0], 1))\n",
    "    w = torch.reshape(w, (1, w.shape[0]))\n",
    "    theta = torch.exp(torch.tanh(torch.mm(x_m, w) + b))\n",
    "    Z[:, 1-m] = (x[:, 1-m] - theta[:, 1])/ theta[:, 0]\n",
    "    return Z\n",
    "\n",
    "def inverse_flow(W, B, M, X):\n",
    "    for i in range(len(M)):\n",
    "        X = inverse_coupling_layer(W[i], B[i], M[i], X)\n",
    "    return X"
   ]
  },
  {
   "cell_type": "code",
   "execution_count": 206,
   "id": "9e09523e",
   "metadata": {},
   "outputs": [
    {
     "name": "stdout",
     "output_type": "stream",
     "text": [
      "tensor([[3.0866, 4.6222],\n",
      "        [8.5234, 4.2419]])\n"
     ]
    }
   ],
   "source": [
    "M = torch.tensor([0,1])\n",
    "W = torch.tensor(([[-1, 1], [1, -1]]), dtype = torch.float32)\n",
    "B = torch.tensor(([[1, 1], [1,1]]), dtype = torch.float32)\n",
    "z0 = torch.tensor(([[1, 2],[3, 4]]), dtype = torch.float32)\n",
    "X = forward_flow(W, B, M, z0)\n",
    "print(X)"
   ]
  },
  {
   "cell_type": "code",
   "execution_count": 207,
   "id": "76bf46ec",
   "metadata": {},
   "outputs": [
    {
     "name": "stdout",
     "output_type": "stream",
     "text": [
      "tensor([[1.0000, 2.0000],\n",
      "        [3.0000, 4.0000]])\n"
     ]
    }
   ],
   "source": [
    "Z0 = inverse_flow(torch.flipud(W), torch.flipud(B), torch.flipud(M), X)\n",
    "print(Z0)"
   ]
  },
  {
   "cell_type": "code",
   "execution_count": 220,
   "id": "ebf28f92",
   "metadata": {},
   "outputs": [],
   "source": [
    "torch.manual_seed(0)\n",
    "d = 2\n",
    "N = 5000\n",
    "z0_iid = torch.randn(N, 2)"
   ]
  },
  {
   "cell_type": "code",
   "execution_count": 221,
   "id": "714d6230",
   "metadata": {},
   "outputs": [
    {
     "data": {
      "image/png": "[encoded data removed]",
      "text/plain": [
       "<Figure size 432x288 with 1 Axes>"
      ]
     },
     "metadata": {
      "needs_background": "light"
     },
     "output_type": "display_data"
    }
   ],
   "source": [
    "plt.hist2d(list(z0_iid[:,0]), list(z0_iid[:,1]), bins=100, range=[[-5,5],[-5,5]],  cmap = 'plasma')\n",
    "plt.show()"
   ]
  },
  {
   "cell_type": "code",
   "execution_count": 222,
   "id": "5784dc48",
   "metadata": {},
   "outputs": [],
   "source": [
    "X_d = forward_flow(W, B, M, z0_iid)"
   ]
  },
  {
   "cell_type": "code",
   "execution_count": 223,
   "id": "82498627",
   "metadata": {},
   "outputs": [
    {
     "data": {
      "image/png": "[encoded data removed]",
      "text/plain": [
       "<Figure size 432x288 with 1 Axes>"
      ]
     },
     "metadata": {
      "needs_background": "light"
     },
     "output_type": "display_data"
    }
   ],
   "source": [
    "plt.hist2d(list(X_d[:,0]), list(X_d[:,1]), bins=100, range=[[-5,5],[-5,5]],  cmap = 'plasma')\n",
    "plt.show()"
   ]
  },
  {
   "cell_type": "code",
   "execution_count": 224,
   "id": "7664d40d",
   "metadata": {},
   "outputs": [],
   "source": [
    "Z0_inv = inverse_flow(torch.flipud(W), torch.flipud(B), torch.flipud(M), X_d)"
   ]
  },
  {
   "cell_type": "code",
   "execution_count": 225,
   "id": "4bdc62f5",
   "metadata": {},
   "outputs": [
    {
     "data": {
      "image/png": "[encoded data removed]",
      "text/plain": [
       "<Figure size 432x288 with 1 Axes>"
      ]
     },
     "metadata": {
      "needs_background": "light"
     },
     "output_type": "display_data"
    }
   ],
   "source": [
    "plt.hist2d(list(Z0_inv[:,0]), list(Z0_inv[:,1]), bins=100, range=[[-5,5],[-5,5]],  cmap = 'plasma')\n",
    "plt.show()"
   ]
  },
  {
   "cell_type": "code",
   "execution_count": null,
   "id": "f4caa52a",
   "metadata": {},
   "outputs": [],
   "source": []
  },
  {
   "cell_type": "code",
   "execution_count": null,
   "id": "3c53ba8d",
   "metadata": {},
   "outputs": [],
   "source": []
  }
 ],
 "metadata": {
  "kernelspec": {
   "display_name": "Python 3 (ipykernel)",
   "language": "python",
   "name": "python3"
  },
  "language_info": {
   "codemirror_mode": {
    "name": "ipython",
    "version": 3
   },
   "file_extension": ".py",
   "mimetype": "text/x-python",
   "name": "python",
   "nbconvert_exporter": "python",
   "pygments_lexer": "ipython3",
   "version": "3.9.12"
  }
 },
 "nbformat": 4,
 "nbformat_minor": 5
}
